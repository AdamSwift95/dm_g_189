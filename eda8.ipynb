{
 "cells": [
  {
   "cell_type": "code",
   "execution_count": 1,
   "id": "9a90ddfc",
   "metadata": {
    "id": "9a90ddfc"
   },
   "outputs": [],
   "source": [
    "import pandas as pd\n",
    "import matplotlib.pyplot as plt\n",
    "import seaborn as sns\n",
    "import os\n",
    "import missingno as msn\n",
    "import dexplot as dxp"
   ]
  },
  {
   "cell_type": "code",
   "execution_count": 3,
   "id": "QoyBaHFQVkVH",
   "metadata": {
    "id": "QoyBaHFQVkVH"
   },
   "outputs": [],
   "source": [
    "train = pd.read_csv('../training_set_VU_DM.csv', sep=\",\", header=0)"
   ]
  },
  {
   "cell_type": "code",
   "execution_count": 4,
   "id": "V2sormpOWh9o",
   "metadata": {
    "colab": {
     "base_uri": "https://localhost:8080/",
     "height": 835
    },
    "id": "V2sormpOWh9o",
    "outputId": "4d6a86da-7244-421f-df85-e8240b3617df"
   },
   "outputs": [
    {
     "data": {
      "text/html": [
       "<div>\n",
       "<style scoped>\n",
       "    .dataframe tbody tr th:only-of-type {\n",
       "        vertical-align: middle;\n",
       "    }\n",
       "\n",
       "    .dataframe tbody tr th {\n",
       "        vertical-align: top;\n",
       "    }\n",
       "\n",
       "    .dataframe thead th {\n",
       "        text-align: right;\n",
       "    }\n",
       "</style>\n",
       "<table border=\"1\" class=\"dataframe\">\n",
       "  <thead>\n",
       "    <tr style=\"text-align: right;\">\n",
       "      <th></th>\n",
       "      <th>srch_id</th>\n",
       "      <th>date_time</th>\n",
       "      <th>site_id</th>\n",
       "      <th>visitor_location_country_id</th>\n",
       "      <th>visitor_hist_starrating</th>\n",
       "      <th>visitor_hist_adr_usd</th>\n",
       "      <th>prop_country_id</th>\n",
       "      <th>prop_id</th>\n",
       "      <th>prop_starrating</th>\n",
       "      <th>prop_review_score</th>\n",
       "      <th>...</th>\n",
       "      <th>comp6_rate_percent_diff</th>\n",
       "      <th>comp7_rate</th>\n",
       "      <th>comp7_inv</th>\n",
       "      <th>comp7_rate_percent_diff</th>\n",
       "      <th>comp8_rate</th>\n",
       "      <th>comp8_inv</th>\n",
       "      <th>comp8_rate_percent_diff</th>\n",
       "      <th>click_bool</th>\n",
       "      <th>gross_bookings_usd</th>\n",
       "      <th>booking_bool</th>\n",
       "    </tr>\n",
       "  </thead>\n",
       "  <tbody>\n",
       "    <tr>\n",
       "      <th>0</th>\n",
       "      <td>1</td>\n",
       "      <td>2013-04-04 08:32:15</td>\n",
       "      <td>12</td>\n",
       "      <td>187</td>\n",
       "      <td>NaN</td>\n",
       "      <td>NaN</td>\n",
       "      <td>219</td>\n",
       "      <td>893</td>\n",
       "      <td>3</td>\n",
       "      <td>3.5</td>\n",
       "      <td>...</td>\n",
       "      <td>NaN</td>\n",
       "      <td>NaN</td>\n",
       "      <td>NaN</td>\n",
       "      <td>NaN</td>\n",
       "      <td>0.0</td>\n",
       "      <td>0.0</td>\n",
       "      <td>NaN</td>\n",
       "      <td>0</td>\n",
       "      <td>NaN</td>\n",
       "      <td>0</td>\n",
       "    </tr>\n",
       "    <tr>\n",
       "      <th>1</th>\n",
       "      <td>1</td>\n",
       "      <td>2013-04-04 08:32:15</td>\n",
       "      <td>12</td>\n",
       "      <td>187</td>\n",
       "      <td>NaN</td>\n",
       "      <td>NaN</td>\n",
       "      <td>219</td>\n",
       "      <td>10404</td>\n",
       "      <td>4</td>\n",
       "      <td>4.0</td>\n",
       "      <td>...</td>\n",
       "      <td>NaN</td>\n",
       "      <td>NaN</td>\n",
       "      <td>NaN</td>\n",
       "      <td>NaN</td>\n",
       "      <td>0.0</td>\n",
       "      <td>0.0</td>\n",
       "      <td>NaN</td>\n",
       "      <td>0</td>\n",
       "      <td>NaN</td>\n",
       "      <td>0</td>\n",
       "    </tr>\n",
       "    <tr>\n",
       "      <th>2</th>\n",
       "      <td>1</td>\n",
       "      <td>2013-04-04 08:32:15</td>\n",
       "      <td>12</td>\n",
       "      <td>187</td>\n",
       "      <td>NaN</td>\n",
       "      <td>NaN</td>\n",
       "      <td>219</td>\n",
       "      <td>21315</td>\n",
       "      <td>3</td>\n",
       "      <td>4.5</td>\n",
       "      <td>...</td>\n",
       "      <td>NaN</td>\n",
       "      <td>NaN</td>\n",
       "      <td>NaN</td>\n",
       "      <td>NaN</td>\n",
       "      <td>0.0</td>\n",
       "      <td>0.0</td>\n",
       "      <td>NaN</td>\n",
       "      <td>0</td>\n",
       "      <td>NaN</td>\n",
       "      <td>0</td>\n",
       "    </tr>\n",
       "    <tr>\n",
       "      <th>3</th>\n",
       "      <td>1</td>\n",
       "      <td>2013-04-04 08:32:15</td>\n",
       "      <td>12</td>\n",
       "      <td>187</td>\n",
       "      <td>NaN</td>\n",
       "      <td>NaN</td>\n",
       "      <td>219</td>\n",
       "      <td>27348</td>\n",
       "      <td>2</td>\n",
       "      <td>4.0</td>\n",
       "      <td>...</td>\n",
       "      <td>NaN</td>\n",
       "      <td>NaN</td>\n",
       "      <td>NaN</td>\n",
       "      <td>NaN</td>\n",
       "      <td>-1.0</td>\n",
       "      <td>0.0</td>\n",
       "      <td>5.0</td>\n",
       "      <td>0</td>\n",
       "      <td>NaN</td>\n",
       "      <td>0</td>\n",
       "    </tr>\n",
       "    <tr>\n",
       "      <th>4</th>\n",
       "      <td>1</td>\n",
       "      <td>2013-04-04 08:32:15</td>\n",
       "      <td>12</td>\n",
       "      <td>187</td>\n",
       "      <td>NaN</td>\n",
       "      <td>NaN</td>\n",
       "      <td>219</td>\n",
       "      <td>29604</td>\n",
       "      <td>4</td>\n",
       "      <td>3.5</td>\n",
       "      <td>...</td>\n",
       "      <td>NaN</td>\n",
       "      <td>NaN</td>\n",
       "      <td>NaN</td>\n",
       "      <td>NaN</td>\n",
       "      <td>0.0</td>\n",
       "      <td>0.0</td>\n",
       "      <td>NaN</td>\n",
       "      <td>0</td>\n",
       "      <td>NaN</td>\n",
       "      <td>0</td>\n",
       "    </tr>\n",
       "    <tr>\n",
       "      <th>...</th>\n",
       "      <td>...</td>\n",
       "      <td>...</td>\n",
       "      <td>...</td>\n",
       "      <td>...</td>\n",
       "      <td>...</td>\n",
       "      <td>...</td>\n",
       "      <td>...</td>\n",
       "      <td>...</td>\n",
       "      <td>...</td>\n",
       "      <td>...</td>\n",
       "      <td>...</td>\n",
       "      <td>...</td>\n",
       "      <td>...</td>\n",
       "      <td>...</td>\n",
       "      <td>...</td>\n",
       "      <td>...</td>\n",
       "      <td>...</td>\n",
       "      <td>...</td>\n",
       "      <td>...</td>\n",
       "      <td>...</td>\n",
       "      <td>...</td>\n",
       "    </tr>\n",
       "    <tr>\n",
       "      <th>4958342</th>\n",
       "      <td>332785</td>\n",
       "      <td>2013-06-30 19:55:18</td>\n",
       "      <td>5</td>\n",
       "      <td>219</td>\n",
       "      <td>NaN</td>\n",
       "      <td>NaN</td>\n",
       "      <td>219</td>\n",
       "      <td>77700</td>\n",
       "      <td>3</td>\n",
       "      <td>4.0</td>\n",
       "      <td>...</td>\n",
       "      <td>NaN</td>\n",
       "      <td>NaN</td>\n",
       "      <td>NaN</td>\n",
       "      <td>NaN</td>\n",
       "      <td>NaN</td>\n",
       "      <td>NaN</td>\n",
       "      <td>NaN</td>\n",
       "      <td>0</td>\n",
       "      <td>NaN</td>\n",
       "      <td>0</td>\n",
       "    </tr>\n",
       "    <tr>\n",
       "      <th>4958343</th>\n",
       "      <td>332785</td>\n",
       "      <td>2013-06-30 19:55:18</td>\n",
       "      <td>5</td>\n",
       "      <td>219</td>\n",
       "      <td>NaN</td>\n",
       "      <td>NaN</td>\n",
       "      <td>219</td>\n",
       "      <td>88083</td>\n",
       "      <td>3</td>\n",
       "      <td>4.0</td>\n",
       "      <td>...</td>\n",
       "      <td>NaN</td>\n",
       "      <td>NaN</td>\n",
       "      <td>NaN</td>\n",
       "      <td>NaN</td>\n",
       "      <td>NaN</td>\n",
       "      <td>NaN</td>\n",
       "      <td>NaN</td>\n",
       "      <td>0</td>\n",
       "      <td>NaN</td>\n",
       "      <td>0</td>\n",
       "    </tr>\n",
       "    <tr>\n",
       "      <th>4958344</th>\n",
       "      <td>332785</td>\n",
       "      <td>2013-06-30 19:55:18</td>\n",
       "      <td>5</td>\n",
       "      <td>219</td>\n",
       "      <td>NaN</td>\n",
       "      <td>NaN</td>\n",
       "      <td>219</td>\n",
       "      <td>94508</td>\n",
       "      <td>3</td>\n",
       "      <td>3.5</td>\n",
       "      <td>...</td>\n",
       "      <td>NaN</td>\n",
       "      <td>NaN</td>\n",
       "      <td>NaN</td>\n",
       "      <td>NaN</td>\n",
       "      <td>NaN</td>\n",
       "      <td>NaN</td>\n",
       "      <td>NaN</td>\n",
       "      <td>0</td>\n",
       "      <td>NaN</td>\n",
       "      <td>0</td>\n",
       "    </tr>\n",
       "    <tr>\n",
       "      <th>4958345</th>\n",
       "      <td>332785</td>\n",
       "      <td>2013-06-30 19:55:18</td>\n",
       "      <td>5</td>\n",
       "      <td>219</td>\n",
       "      <td>NaN</td>\n",
       "      <td>NaN</td>\n",
       "      <td>219</td>\n",
       "      <td>128360</td>\n",
       "      <td>3</td>\n",
       "      <td>5.0</td>\n",
       "      <td>...</td>\n",
       "      <td>NaN</td>\n",
       "      <td>NaN</td>\n",
       "      <td>NaN</td>\n",
       "      <td>NaN</td>\n",
       "      <td>NaN</td>\n",
       "      <td>NaN</td>\n",
       "      <td>NaN</td>\n",
       "      <td>1</td>\n",
       "      <td>157.84</td>\n",
       "      <td>1</td>\n",
       "    </tr>\n",
       "    <tr>\n",
       "      <th>4958346</th>\n",
       "      <td>332785</td>\n",
       "      <td>2013-06-30 19:55:18</td>\n",
       "      <td>5</td>\n",
       "      <td>219</td>\n",
       "      <td>NaN</td>\n",
       "      <td>NaN</td>\n",
       "      <td>219</td>\n",
       "      <td>134949</td>\n",
       "      <td>3</td>\n",
       "      <td>2.5</td>\n",
       "      <td>...</td>\n",
       "      <td>NaN</td>\n",
       "      <td>NaN</td>\n",
       "      <td>NaN</td>\n",
       "      <td>NaN</td>\n",
       "      <td>NaN</td>\n",
       "      <td>NaN</td>\n",
       "      <td>NaN</td>\n",
       "      <td>0</td>\n",
       "      <td>NaN</td>\n",
       "      <td>0</td>\n",
       "    </tr>\n",
       "  </tbody>\n",
       "</table>\n",
       "<p>4958347 rows × 54 columns</p>\n",
       "</div>"
      ],
      "text/plain": [
       "         srch_id            date_time  site_id  visitor_location_country_id  \\\n",
       "0              1  2013-04-04 08:32:15       12                          187   \n",
       "1              1  2013-04-04 08:32:15       12                          187   \n",
       "2              1  2013-04-04 08:32:15       12                          187   \n",
       "3              1  2013-04-04 08:32:15       12                          187   \n",
       "4              1  2013-04-04 08:32:15       12                          187   \n",
       "...          ...                  ...      ...                          ...   \n",
       "4958342   332785  2013-06-30 19:55:18        5                          219   \n",
       "4958343   332785  2013-06-30 19:55:18        5                          219   \n",
       "4958344   332785  2013-06-30 19:55:18        5                          219   \n",
       "4958345   332785  2013-06-30 19:55:18        5                          219   \n",
       "4958346   332785  2013-06-30 19:55:18        5                          219   \n",
       "\n",
       "         visitor_hist_starrating  visitor_hist_adr_usd  prop_country_id  \\\n",
       "0                            NaN                   NaN              219   \n",
       "1                            NaN                   NaN              219   \n",
       "2                            NaN                   NaN              219   \n",
       "3                            NaN                   NaN              219   \n",
       "4                            NaN                   NaN              219   \n",
       "...                          ...                   ...              ...   \n",
       "4958342                      NaN                   NaN              219   \n",
       "4958343                      NaN                   NaN              219   \n",
       "4958344                      NaN                   NaN              219   \n",
       "4958345                      NaN                   NaN              219   \n",
       "4958346                      NaN                   NaN              219   \n",
       "\n",
       "         prop_id  prop_starrating  prop_review_score  ...  \\\n",
       "0            893                3                3.5  ...   \n",
       "1          10404                4                4.0  ...   \n",
       "2          21315                3                4.5  ...   \n",
       "3          27348                2                4.0  ...   \n",
       "4          29604                4                3.5  ...   \n",
       "...          ...              ...                ...  ...   \n",
       "4958342    77700                3                4.0  ...   \n",
       "4958343    88083                3                4.0  ...   \n",
       "4958344    94508                3                3.5  ...   \n",
       "4958345   128360                3                5.0  ...   \n",
       "4958346   134949                3                2.5  ...   \n",
       "\n",
       "         comp6_rate_percent_diff  comp7_rate  comp7_inv  \\\n",
       "0                            NaN         NaN        NaN   \n",
       "1                            NaN         NaN        NaN   \n",
       "2                            NaN         NaN        NaN   \n",
       "3                            NaN         NaN        NaN   \n",
       "4                            NaN         NaN        NaN   \n",
       "...                          ...         ...        ...   \n",
       "4958342                      NaN         NaN        NaN   \n",
       "4958343                      NaN         NaN        NaN   \n",
       "4958344                      NaN         NaN        NaN   \n",
       "4958345                      NaN         NaN        NaN   \n",
       "4958346                      NaN         NaN        NaN   \n",
       "\n",
       "         comp7_rate_percent_diff  comp8_rate  comp8_inv  \\\n",
       "0                            NaN         0.0        0.0   \n",
       "1                            NaN         0.0        0.0   \n",
       "2                            NaN         0.0        0.0   \n",
       "3                            NaN        -1.0        0.0   \n",
       "4                            NaN         0.0        0.0   \n",
       "...                          ...         ...        ...   \n",
       "4958342                      NaN         NaN        NaN   \n",
       "4958343                      NaN         NaN        NaN   \n",
       "4958344                      NaN         NaN        NaN   \n",
       "4958345                      NaN         NaN        NaN   \n",
       "4958346                      NaN         NaN        NaN   \n",
       "\n",
       "         comp8_rate_percent_diff  click_bool  gross_bookings_usd  booking_bool  \n",
       "0                            NaN           0                 NaN             0  \n",
       "1                            NaN           0                 NaN             0  \n",
       "2                            NaN           0                 NaN             0  \n",
       "3                            5.0           0                 NaN             0  \n",
       "4                            NaN           0                 NaN             0  \n",
       "...                          ...         ...                 ...           ...  \n",
       "4958342                      NaN           0                 NaN             0  \n",
       "4958343                      NaN           0                 NaN             0  \n",
       "4958344                      NaN           0                 NaN             0  \n",
       "4958345                      NaN           1              157.84             1  \n",
       "4958346                      NaN           0                 NaN             0  \n",
       "\n",
       "[4958347 rows x 54 columns]"
      ]
     },
     "execution_count": 4,
     "metadata": {},
     "output_type": "execute_result"
    }
   ],
   "source": [
    "train"
   ]
  },
  {
   "cell_type": "code",
   "execution_count": 5,
   "id": "B1uK45ToUjSW",
   "metadata": {
    "id": "B1uK45ToUjSW"
   },
   "outputs": [],
   "source": [
    "import pandas as pd\n",
    "import numpy as np\n",
    "import matplotlib.pyplot as plt\n",
    "import dask.dataframe as dd"
   ]
  },
  {
   "cell_type": "code",
   "execution_count": 6,
   "id": "6f4b5c5e",
   "metadata": {
    "id": "6f4b5c5e"
   },
   "outputs": [],
   "source": [
    "import numpy as np\n",
    "from scipy.stats import spearmanr"
   ]
  },
  {
   "cell_type": "code",
   "execution_count": 15,
   "id": "e98022b6",
   "metadata": {
    "id": "e98022b6"
   },
   "outputs": [],
   "source": [
    "\n",
    "from sklearn.compose import ColumnTransformer\n",
    "from sklearn.datasets import fetch_openml\n",
    "from sklearn.pipeline import Pipeline\n",
    "from sklearn.impute import SimpleImputer\n",
    "from sklearn.preprocessing import StandardScaler, OneHotEncoder\n",
    "from sklearn.model_selection import train_test_split, GridSearchCV\n",
    "from sklearn.model_selection import cross_val_score\n",
    "from sklearn.linear_model import Lasso\n",
    "from sklearn.preprocessing import MinMaxScaler\n",
    "\n",
    "from sklearn.linear_model import LogisticRegression\n",
    "from sklearn.svm import SVC, LinearSVC\n",
    "from sklearn.ensemble import RandomForestClassifier\n",
    "from sklearn.ensemble import GradientBoostingClassifier\n",
    "from sklearn.neighbors import KNeighborsClassifier\n",
    "from sklearn.naive_bayes import GaussianNB\n",
    "from sklearn.linear_model import Perceptron\n",
    "from sklearn.linear_model import SGDClassifier\n",
    "from sklearn.tree import DecisionTreeClassifier\n",
    "import xgboost as xgb\n",
    "import lightgbm as lgb"
   ]
  },
  {
   "cell_type": "code",
   "execution_count": 12,
   "id": "fce8706d",
   "metadata": {
    "id": "fce8706d"
   },
   "outputs": [],
   "source": [
    "\n",
    "train = dd.read_csv(\"../training_set_VU_DM.csv\", sep=\",\", header=0, engine='python')\n"
   ]
  },
  {
   "cell_type": "code",
   "execution_count": 16,
   "id": "b533ecbc",
   "metadata": {
    "id": "b533ecbc"
   },
   "outputs": [
    {
     "ename": "TypeError",
     "evalue": "Column assignment doesn't support type numpy.ndarray",
     "output_type": "error",
     "traceback": [
      "\u001b[0;31m---------------------------------------------------------------------------\u001b[0m",
      "\u001b[0;31mTypeError\u001b[0m                                 Traceback (most recent call last)",
      "\u001b[0;32m<ipython-input-16-77e69eaec600>\u001b[0m in \u001b[0;36m<module>\u001b[0;34m\u001b[0m\n\u001b[1;32m     38\u001b[0m \u001b[0;31m#choices = [2 ,1]\u001b[0m\u001b[0;34m\u001b[0m\u001b[0;34m\u001b[0m\u001b[0;34m\u001b[0m\u001b[0m\n\u001b[1;32m     39\u001b[0m \u001b[0mchoices\u001b[0m \u001b[0;34m=\u001b[0m \u001b[0;34m[\u001b[0m\u001b[0;36m1\u001b[0m\u001b[0;34m]\u001b[0m\u001b[0;34m\u001b[0m\u001b[0;34m\u001b[0m\u001b[0m\n\u001b[0;32m---> 40\u001b[0;31m \u001b[0mtrain\u001b[0m\u001b[0;34m[\u001b[0m\u001b[0;34m'outcome'\u001b[0m\u001b[0;34m]\u001b[0m \u001b[0;34m=\u001b[0m \u001b[0mnp\u001b[0m\u001b[0;34m.\u001b[0m\u001b[0mselect\u001b[0m\u001b[0;34m(\u001b[0m\u001b[0mconditions\u001b[0m\u001b[0;34m,\u001b[0m \u001b[0mchoices\u001b[0m\u001b[0;34m,\u001b[0m \u001b[0mdefault\u001b[0m\u001b[0;34m=\u001b[0m\u001b[0;36m0\u001b[0m\u001b[0;34m)\u001b[0m\u001b[0;34m\u001b[0m\u001b[0;34m\u001b[0m\u001b[0m\n\u001b[0m\u001b[1;32m     41\u001b[0m \u001b[0;34m\u001b[0m\u001b[0m\n\u001b[1;32m     42\u001b[0m \u001b[0mtrain\u001b[0m \u001b[0;34m=\u001b[0m \u001b[0mtrain\u001b[0m\u001b[0;34m.\u001b[0m\u001b[0mdrop\u001b[0m\u001b[0;34m(\u001b[0m\u001b[0mto_drop\u001b[0m\u001b[0;34m,\u001b[0m  \u001b[0maxis\u001b[0m\u001b[0;34m=\u001b[0m\u001b[0;36m1\u001b[0m\u001b[0;34m)\u001b[0m\u001b[0;31m#.sample(frac=0.2, replace=True, random_state=1)\u001b[0m\u001b[0;34m\u001b[0m\u001b[0;34m\u001b[0m\u001b[0m\n",
      "\u001b[0;32m~/miniconda3/lib/python3.8/site-packages/dask/dataframe/core.py\u001b[0m in \u001b[0;36m__setitem__\u001b[0;34m(self, key, value)\u001b[0m\n\u001b[1;32m   3964\u001b[0m             \u001b[0;32mraise\u001b[0m \u001b[0mNotImplementedError\u001b[0m\u001b[0;34m(\u001b[0m\u001b[0;34mf\"Item assignment with {type(key)} not supported\"\u001b[0m\u001b[0;34m)\u001b[0m\u001b[0;34m\u001b[0m\u001b[0;34m\u001b[0m\u001b[0m\n\u001b[1;32m   3965\u001b[0m         \u001b[0;32melse\u001b[0m\u001b[0;34m:\u001b[0m\u001b[0;34m\u001b[0m\u001b[0;34m\u001b[0m\u001b[0m\n\u001b[0;32m-> 3966\u001b[0;31m             \u001b[0mdf\u001b[0m \u001b[0;34m=\u001b[0m \u001b[0mself\u001b[0m\u001b[0;34m.\u001b[0m\u001b[0massign\u001b[0m\u001b[0;34m(\u001b[0m\u001b[0;34m**\u001b[0m\u001b[0;34m{\u001b[0m\u001b[0mkey\u001b[0m\u001b[0;34m:\u001b[0m \u001b[0mvalue\u001b[0m\u001b[0;34m}\u001b[0m\u001b[0;34m)\u001b[0m\u001b[0;34m\u001b[0m\u001b[0;34m\u001b[0m\u001b[0m\n\u001b[0m\u001b[1;32m   3967\u001b[0m \u001b[0;34m\u001b[0m\u001b[0m\n\u001b[1;32m   3968\u001b[0m         \u001b[0mself\u001b[0m\u001b[0;34m.\u001b[0m\u001b[0mdask\u001b[0m \u001b[0;34m=\u001b[0m \u001b[0mdf\u001b[0m\u001b[0;34m.\u001b[0m\u001b[0mdask\u001b[0m\u001b[0;34m\u001b[0m\u001b[0;34m\u001b[0m\u001b[0m\n",
      "\u001b[0;32m~/miniconda3/lib/python3.8/site-packages/dask/dataframe/core.py\u001b[0m in \u001b[0;36massign\u001b[0;34m(self, **kwargs)\u001b[0m\n\u001b[1;32m   4253\u001b[0m                 \u001b[0;32mor\u001b[0m \u001b[0misinstance\u001b[0m\u001b[0;34m(\u001b[0m\u001b[0mv\u001b[0m\u001b[0;34m,\u001b[0m \u001b[0mArray\u001b[0m\u001b[0;34m)\u001b[0m\u001b[0;34m\u001b[0m\u001b[0;34m\u001b[0m\u001b[0m\n\u001b[1;32m   4254\u001b[0m             ):\n\u001b[0;32m-> 4255\u001b[0;31m                 raise TypeError(\n\u001b[0m\u001b[1;32m   4256\u001b[0m                     \u001b[0;34m\"Column assignment doesn't support type \"\u001b[0m\u001b[0;34m\u001b[0m\u001b[0;34m\u001b[0m\u001b[0m\n\u001b[1;32m   4257\u001b[0m                     \u001b[0;34m\"{0}\"\u001b[0m\u001b[0;34m.\u001b[0m\u001b[0mformat\u001b[0m\u001b[0;34m(\u001b[0m\u001b[0mtypename\u001b[0m\u001b[0;34m(\u001b[0m\u001b[0mtype\u001b[0m\u001b[0;34m(\u001b[0m\u001b[0mv\u001b[0m\u001b[0;34m)\u001b[0m\u001b[0;34m)\u001b[0m\u001b[0;34m)\u001b[0m\u001b[0;34m\u001b[0m\u001b[0;34m\u001b[0m\u001b[0m\n",
      "\u001b[0;31mTypeError\u001b[0m: Column assignment doesn't support type numpy.ndarray"
     ]
    }
   ],
   "source": [
    "to_drop= ['comp1_rate',\n",
    "'comp1_inv',\n",
    "'comp1_rate_percent_diff',\n",
    "'comp2_rate',\n",
    "'comp2_inv',\n",
    "'comp2_rate_percent_diff',\n",
    "'comp3_rate',\n",
    "'comp3_inv',\n",
    "'comp3_rate_percent_diff',\n",
    "'comp4_rate',\n",
    "'comp4_inv',\n",
    "'comp4_rate_percent_diff',\n",
    "'comp5_rate',\n",
    "'comp5_inv',\n",
    "'comp5_rate_percent_diff',\n",
    "'comp6_rate',\n",
    "'comp6_inv',\n",
    "'comp6_rate_percent_diff',\n",
    "'comp7_rate',\n",
    "'comp7_inv',\n",
    "'comp7_rate_percent_diff',\n",
    "'comp8_rate',\n",
    "'comp8_inv',\n",
    "'comp8_rate_percent_diff'\n",
    "\n",
    "]\n",
    "\n",
    "#train['outcome'] = pd.Series(train['booking_bool']> 0, 500 + train['position'] , train['click_bool']> 0, 100 +train['position'] , 0 + train['position'] )\n",
    "\n",
    "conditions = [\n",
    "    #(train['booking_bool']> 0),\n",
    "    (train['click_bool']> 0)\n",
    "]\n",
    "\n",
    "#choices = [500+(40 - train['position']) ,100+(40 - train['position'])]\n",
    "#train['outcome'] = np.select(conditions, choices, default=(40 - train['position'])\n",
    "\n",
    "#choices = [2 ,1]\n",
    "choices = [1]\n",
    "train['outcome'] = np.select(conditions, choices, default=0)\n",
    "\n",
    "train = train.drop(to_drop,  axis=1)#.sample(frac=0.2, replace=True, random_state=1)\n",
    "#test_reduced  = test.iloc[: , :N].sample(frac=0.33, replace=True, random_state=1)\n",
    "train = train[train.price_usd < 3001]"
   ]
  },
  {
   "cell_type": "code",
   "execution_count": null,
   "id": "83601d66",
   "metadata": {
    "id": "83601d66"
   },
   "outputs": [],
   "source": [
    "train['price_bin'] = pd.qcut(train['price_usd'], q=80, precision=0)\n",
    "train['mean_price_bin_star'] = train.groupby('price_bin')['prop_starrating'].transform('mean')\n",
    "train['mean_price_bin_review'] = train.groupby('price_bin')['prop_review_score'].transform('mean')\n",
    "train['prop_review_score'] = train['prop_review_score'].fillna(0)\n",
    "train.loc[train.prop_review_score == 0, \"prop_review_score\"] = train.mean_price_bin_review\n",
    "train.loc[train.prop_starrating == 0, \"prop_starrating\"] = train.mean_price_bin_star\n",
    "\n"
   ]
  },
  {
   "cell_type": "code",
   "execution_count": null,
   "id": "45058086",
   "metadata": {
    "id": "45058086"
   },
   "outputs": [],
   "source": [
    "train['max_price'] = train.groupby('srch_id')['price_usd'].transform('max') \n",
    "train['min_price'] = train.groupby('srch_id')['price_usd'].transform('min') \n",
    "train['mean_price'] = train.groupby('srch_id')['price_usd'].transform('mean') \n",
    "train['diff_max_price'] =(train['max_price'] -train['price_usd']) / train['price_usd']\n",
    "train['diff_min_price'] = (train['min_price'] - train['price_usd'])/ train['price_usd']\n",
    "train['diff_min_price'] = train['diff_min_price'].replace(np.nan, 0)\n",
    "train['diff_mean_price'] = (train['mean_price'] - train['price_usd']) / train['price_usd']\n",
    "train['price_review_value'] =  train['prop_review_score'] /train['mean_price_bin_review'] \n"
   ]
  },
  {
   "cell_type": "code",
   "execution_count": null,
   "id": "b099bb26",
   "metadata": {
    "id": "b099bb26"
   },
   "outputs": [],
   "source": [
    "train['hotel_click_prob'] = train.groupby('prop_id')['click_bool'].transform('sum') / train.groupby('prop_id')['click_bool'].transform('count')\n",
    "train['hotel_click_prob'] = train.groupby('prop_id')['click_bool'].transform('sum') / train.groupby('prop_id')['click_bool'].transform('count')\n",
    "train['hotel_show_prob'] =  train.groupby('prop_id')['prop_id'].transform('count') / train.groupby('srch_id')['prop_id'].transform('count')\n",
    "#pd.crosstab(train.hotel_click_prob, train.prop_id, dropna=False)\n",
    "\n"
   ]
  },
  {
   "cell_type": "code",
   "execution_count": null,
   "id": "xYrxyCViXY8Q",
   "metadata": {
    "id": "xYrxyCViXY8Q"
   },
   "outputs": [],
   "source": [
    "train['promo_value'] = np.where(((train['promotion_flag'] == 1) & (train['prop_starrating'] <= 2)), 1, 0)\n",
    "train['promo_price_con'] = np.where(((train['promotion_flag'] == 1) & (train['price_usd'] <= train['mean_price'])), 1, 0)\n",
    "#train['evaluate_starr'] = np.where(train['visitor_hist_starrating'] >= train['prop_starrating'], 1, 0) #visitor_hist_starrating has so many NaN"
   ]
  },
  {
   "cell_type": "code",
   "execution_count": null,
   "id": "6b21cbae",
   "metadata": {
    "id": "6b21cbae"
   },
   "outputs": [],
   "source": [
    "train['hotel_buy_prob'] = train.groupby('prop_id')['booking_bool'].transform('sum') / train.groupby('prop_id')['booking_bool'].transform('count')\n",
    "#pd.crosstab(train.hotel_buy_prob, train.prop_id, dropna=False)\n"
   ]
  },
  {
   "cell_type": "code",
   "execution_count": null,
   "id": "37724afe",
   "metadata": {
    "colab": {
     "base_uri": "https://localhost:8080/"
    },
    "id": "37724afe",
    "outputId": "c3c68414-1a2e-4da1-b7b9-32aa1447dbd8"
   },
   "outputs": [],
   "source": [
    "train['outcome'].value_counts()\n"
   ]
  },
  {
   "cell_type": "code",
   "execution_count": null,
   "id": "2706bf9b",
   "metadata": {
    "id": "2706bf9b"
   },
   "outputs": [],
   "source": [
    "train_reduced = train.groupby('outcome')\n",
    "train_reduced = pd.DataFrame(train_reduced.apply(lambda x: x.sample(train_reduced.size().min()).reset_index(drop=True)))"
   ]
  },
  {
   "cell_type": "code",
   "execution_count": null,
   "id": "142f4225",
   "metadata": {
    "id": "142f4225"
   },
   "outputs": [],
   "source": [
    "# conditions = [\n",
    "#     (train['booking_bool']> 0),\n",
    "#     (train['click_bool']> 0)\n",
    "# ]\n",
    "\n",
    "# choices = [500+train['position'],100+train['position'], train['position']]\n",
    "# train['outcome'] = np.select(conditions, choices, default=train['position'])"
   ]
  },
  {
   "cell_type": "code",
   "execution_count": null,
   "id": "c40b308d",
   "metadata": {
    "colab": {
     "base_uri": "https://localhost:8080/"
    },
    "id": "c40b308d",
    "outputId": "dc98301b-0540-4099-e0a9-953c4c8861d4"
   },
   "outputs": [],
   "source": [
    "train_reduced.isnull().mean() * 100"
   ]
  },
  {
   "cell_type": "code",
   "execution_count": null,
   "id": "9b9ad167",
   "metadata": {
    "colab": {
     "base_uri": "https://localhost:8080/",
     "height": 441
    },
    "id": "9b9ad167",
    "outputId": "5fe50415-a24b-4ee8-d380-1837a19697bf"
   },
   "outputs": [],
   "source": [
    "msn.bar(train_reduced,figsize=(18,3), color='red')"
   ]
  },
  {
   "cell_type": "code",
   "execution_count": null,
   "id": "7d448a85",
   "metadata": {
    "colab": {
     "base_uri": "https://localhost:8080/",
     "height": 518
    },
    "id": "7d448a85",
    "outputId": "3815e2de-9947-482a-a877-b762f87165c5"
   },
   "outputs": [],
   "source": [
    "plt.figure(figsize=(15, 6))\n",
    "sns.heatmap(train_reduced.corr().abs(),  annot=True)"
   ]
  },
  {
   "cell_type": "code",
   "execution_count": null,
   "id": "6efaabe3",
   "metadata": {
    "colab": {
     "base_uri": "https://localhost:8080/",
     "height": 280
    },
    "id": "6efaabe3",
    "outputId": "6734becb-05c8-4462-f5e6-5cc550e1cc3e"
   },
   "outputs": [],
   "source": [
    "#ax = sns.histplot(x = train_reduced['random_bool'], hue=train_reduced['random_bool'], multiple=\"dodge\", \n",
    "#train_reduced = train_reduced.reset_index()\n",
    "ax = sns.histplot(x = train_reduced['random_bool'], hue=train_reduced['random_bool'] ,\n",
    "                  stat = 'percent', shrink =10, common_norm=True)"
   ]
  },
  {
   "cell_type": "code",
   "execution_count": null,
   "id": "43c3ae1a",
   "metadata": {
    "colab": {
     "base_uri": "https://localhost:8080/",
     "height": 280
    },
    "id": "43c3ae1a",
    "outputId": "7cc00d88-9b02-4756-d37b-4f9db2db34f3"
   },
   "outputs": [],
   "source": [
    "#ax = sns.histplot(x = train_reduced['random_bool'], hue=train_reduced['random_bool'], multiple=\"dodge\", \n",
    "#train_reduced = train_reduced.reset_index()\n",
    "ax = sns.histplot(x = train_reduced['click_bool'], hue=train_reduced['click_bool'] ,\n",
    "                  stat = 'percent', shrink =4,common_norm=True)"
   ]
  },
  {
   "cell_type": "code",
   "execution_count": null,
   "id": "d5a17d39",
   "metadata": {
    "colab": {
     "base_uri": "https://localhost:8080/",
     "height": 280
    },
    "id": "d5a17d39",
    "outputId": "ea32b9ac-fb8c-4b93-b053-1b3756e04fe2"
   },
   "outputs": [],
   "source": [
    "#ax = sns.histplot(x = train_reduced['random_bool'], hue=train_reduced['random_bool'], multiple=\"dodge\", \n",
    "#train_reduced = train_reduced.reset_index()\n",
    "ax = sns.histplot(x = train_reduced['promotion_flag'], hue=train_reduced['promotion_flag'] ,\n",
    "                  stat = 'percent', shrink =4,common_norm=True)"
   ]
  },
  {
   "cell_type": "code",
   "execution_count": null,
   "id": "c0f50dbe",
   "metadata": {
    "id": "c0f50dbe"
   },
   "outputs": [],
   "source": [
    "# train_reduced['bought_flag'] = np.where(train_reduced['gross_bookings_usd']> 0, 1, 0)\n",
    "\n",
    "# ax = sns.histplot(x = train_reduced['bought_flag'], hue=train_reduced['bought_flag'] ,\n",
    "#                   stat = 'percent', shrink =4,common_norm=True)\n"
   ]
  },
  {
   "cell_type": "code",
   "execution_count": null,
   "id": "0dbdc48f",
   "metadata": {
    "colab": {
     "base_uri": "https://localhost:8080/",
     "height": 280
    },
    "id": "0dbdc48f",
    "outputId": "3f5f4436-9340-4041-ae9a-bf97832c5454"
   },
   "outputs": [],
   "source": [
    "\n",
    "\n",
    "ax = sns.histplot(x = train_reduced['srch_saturday_night_bool'], hue=train_reduced['srch_saturday_night_bool'] ,\n",
    "                  stat = 'percent', shrink =4,common_norm=True)\n"
   ]
  },
  {
   "cell_type": "code",
   "execution_count": null,
   "id": "d2acd6fa",
   "metadata": {
    "colab": {
     "base_uri": "https://localhost:8080/",
     "height": 280
    },
    "id": "d2acd6fa",
    "outputId": "6328ca0d-e297-4132-97b4-dec8e5fdc0cc"
   },
   "outputs": [],
   "source": [
    "train_reduced['room_count_grt_1_flag'] = np.where(train_reduced['srch_room_count']> 1, 1, 0)\n",
    "\n",
    "ax = sns.histplot(x = train_reduced['room_count_grt_1_flag'], hue=train_reduced['room_count_grt_1_flag'] ,\n",
    "                  stat = 'percent', shrink =4,common_norm=True)"
   ]
  },
  {
   "cell_type": "code",
   "execution_count": null,
   "id": "eb8a3367",
   "metadata": {
    "id": "eb8a3367"
   },
   "outputs": [],
   "source": [
    "# df = train_reduced.loc[(train_reduced['gross_bookings_usd'] >= 0) & (train_reduced['gross_bookings_usd'] <= 1000)]\n",
    "# sns.kdeplot(df['gross_bookings_usd'])\n",
    "# plt.show()"
   ]
  },
  {
   "cell_type": "code",
   "execution_count": null,
   "id": "a895cb7b",
   "metadata": {
    "colab": {
     "base_uri": "https://localhost:8080/",
     "height": 280
    },
    "id": "a895cb7b",
    "outputId": "62d6668f-f2ad-43da-c41a-16fb27b140df"
   },
   "outputs": [],
   "source": [
    "df = train_reduced.loc[(train_reduced['srch_length_of_stay'] >= 0) & (train_reduced['srch_length_of_stay'] <= 15)]\n",
    "sns.kdeplot(df['srch_length_of_stay'], shade=True, bw_adjust=7)\n",
    "plt.show()"
   ]
  },
  {
   "cell_type": "code",
   "execution_count": null,
   "id": "c77183cf",
   "metadata": {
    "id": "c77183cf"
   },
   "outputs": [],
   "source": [
    "train_reduced = train_reduced.loc[(train_reduced['random_bool'] == 0)]"
   ]
  },
  {
   "cell_type": "code",
   "execution_count": null,
   "id": "a4769807",
   "metadata": {
    "colab": {
     "base_uri": "https://localhost:8080/",
     "height": 441
    },
    "id": "a4769807",
    "outputId": "4b9649ff-b83b-4b1b-9f37-9db11e8bb4ba"
   },
   "outputs": [],
   "source": [
    "\n",
    "msn.bar(train_reduced,figsize=(18,3), color='red')"
   ]
  },
  {
   "cell_type": "code",
   "execution_count": null,
   "id": "8e7e68ad",
   "metadata": {
    "id": "8e7e68ad"
   },
   "outputs": [],
   "source": [
    "to_drop = ['srch_id','site_id', 'date_time', 'visitor_location_country_id', 'prop_country_id', 'prop_id', 'prop_brand_bool', 'orig_destination_distance', 'click_bool', 'room_count_grt_1_flag', 'random_bool', 'booking_bool', 'srch_destination_id', 'position', 'prop_location_score2'\n",
    "          ,'gross_bookings_usd', 'price_usd', 'max_price','min_price', 'mean_price', 'mean_price_bin_review','mean_price_bin_star', 'price_bin', 'promo_value', 'promo_price_con' ] \n",
    "\n",
    "train1 = train_reduced.drop(to_drop,  axis=1)"
   ]
  },
  {
   "cell_type": "code",
   "execution_count": null,
   "id": "ec704d6c",
   "metadata": {
    "colab": {
     "base_uri": "https://localhost:8080/",
     "height": 434
    },
    "id": "ec704d6c",
    "outputId": "cd4bc7f4-82b8-4c6c-f007-897e6b2d93ab"
   },
   "outputs": [],
   "source": [
    "train1.replace([np.inf, -np.inf], 0, inplace=True)\n",
    "\n",
    "train1=train1.dropna(axis=1,how=\"any\")\n",
    "msn.bar(train1,figsize=(18,3), color='red')"
   ]
  },
  {
   "cell_type": "code",
   "execution_count": null,
   "id": "4615677f",
   "metadata": {
    "id": "4615677f"
   },
   "outputs": [],
   "source": [
    "train1 = train1[['prop_starrating', 'prop_location_score1','prop_log_historical_price','promotion_flag','srch_length_of_stay','srch_booking_window','srch_adults_count','srch_children_count','srch_room_count','srch_saturday_night_bool', 'hotel_click_prob', 'hotel_buy_prob','diff_max_price','diff_min_price','diff_mean_price','hotel_show_prob', 'prop_starrating', 'prop_review_score','price_review_value', 'outcome']]"
   ]
  },
  {
   "cell_type": "code",
   "execution_count": null,
   "id": "5f19cc59",
   "metadata": {
    "id": "5f19cc59"
   },
   "outputs": [],
   "source": [
    "#train1.reset_index()\n",
    "X = train1.iloc[:, :-1].values\n",
    "y = train1.iloc[:, -1].values"
   ]
  },
  {
   "cell_type": "code",
   "execution_count": null,
   "id": "d5d94fcd",
   "metadata": {
    "colab": {
     "base_uri": "https://localhost:8080/",
     "height": 772
    },
    "id": "d5d94fcd",
    "outputId": "180b05c2-2424-47d6-a1bb-fc7051eeac10"
   },
   "outputs": [],
   "source": [
    "train1.head(20)\n",
    "\n"
   ]
  },
  {
   "cell_type": "code",
   "execution_count": null,
   "id": "0c658abd",
   "metadata": {
    "id": "0c658abd"
   },
   "outputs": [],
   "source": [
    "models_list=[\n",
    "    LogisticRegression(),\n",
    "    #Lasso(),\n",
    "    RandomForestClassifier(criterion='entropy', min_samples_leaf=60,\n",
    "                       min_samples_split=4, random_state=16),\n",
    "    GradientBoostingClassifier(),\n",
    "    lgb.LGBMClassifier(),\n",
    "    LinearSVC(random_state=42, C=0.01),\n",
    "    #xgb.XGBRegressor(objective=\"reg:linear\", random_state=42)   \n",
    "  #  xgb.XGBClassifier(objective=\"binary:logistic\", random_state=0, eval_metric=\"auc\", n_estimators=100, max_depth=6,learning_rate=0.1), \n",
    "    xgb.XGBClassifier(objective=\"binary:logistic\", random_state=0, eval_metric=\"auc\", n_estimators=100, max_depth=6,learning_rate=0.05), #better. \n",
    "  #  xgb.XGBClassifier(objective=\"binary:logistic\", random_state=0, eval_metric=\"auc\", n_estimators=100, max_depth=6,learning_rate=0.01), \n",
    "    #  \"multi:softprob\"\n",
    "]"
   ]
  },
  {
   "cell_type": "code",
   "execution_count": null,
   "id": "d38f274b",
   "metadata": {
    "id": "d38f274b"
   },
   "outputs": [],
   "source": [
    "# Splitting the dataset into the Training set and Test set\n",
    "from sklearn.model_selection import train_test_split\n",
    "X_train, X_test, y_train, y_test = train_test_split(X, y, test_size = 0.2, random_state = 0)\n"
   ]
  },
  {
   "cell_type": "code",
   "execution_count": null,
   "id": "470e156b",
   "metadata": {
    "colab": {
     "base_uri": "https://localhost:8080/"
    },
    "id": "470e156b",
    "outputId": "2b5ff5ff-75e8-4e59-e555-77ba79ede9bd"
   },
   "outputs": [],
   "source": [
    "# https://scikit-learn.org/stable/modules/generated/sklearn.pipeline.Pipeline.html\n",
    "import warnings\n",
    "warnings.filterwarnings('ignore')\n",
    "\n",
    "l=[]\n",
    "for model in models_list:\n",
    "    #clf=clf_models(model)\n",
    "    print(model)\n",
    "    fit_model=model.fit(X_train, y_train)\n",
    "    score=model.score(X_test, y_test)\n",
    "    print(\"model score: %.3f\" % score)\n",
    "    l.append([model,'clf', score, X_test, y_test])\n",
    "    #print(clf)\n",
    "    #scores = -1 * cross_val_score(clf, X, y,cv=5,scoring='neg_mean_absolute_error')\n",
    "    #print(\"MAE scores:\\n\", scores.mean(), scores.sum(), scores.min())\n",
    "    \n",
    "#print(l[3][4])\n",
    "#print(l[2][3])\n",
    "#print(l[2][0])"
   ]
  },
  {
   "cell_type": "code",
   "execution_count": null,
   "id": "3fbf0932",
   "metadata": {
    "colab": {
     "base_uri": "https://localhost:8080/"
    },
    "id": "3fbf0932",
    "outputId": "abf0f516-a867-43c9-93a1-fe0c90c0cadb"
   },
   "outputs": [],
   "source": [
    "y_pred=l[1][0].predict(X_test)\n",
    "\n",
    "print(y_pred)\n",
    "\n",
    "y_pred[:5]"
   ]
  },
  {
   "cell_type": "code",
   "execution_count": null,
   "id": "0395413d",
   "metadata": {
    "id": "0395413d"
   },
   "outputs": [],
   "source": [
    "predictors = ['prop_starrating', 'prop_location_score1','prop_log_historical_price','promotion_flag','srch_length_of_stay','srch_booking_window','srch_adults_count','srch_children_count','srch_room_count','srch_saturday_night_bool', 'hotel_click_prob', 'hotel_buy_prob', 'diff_max_price','diff_min_price','diff_mean_price', 'hotel_show_prob', 'prop_starrating', 'prop_review_score','price_review_value']"
   ]
  },
  {
   "cell_type": "code",
   "execution_count": null,
   "id": "e206fa85",
   "metadata": {
    "colab": {
     "base_uri": "https://localhost:8080/"
    },
    "id": "e206fa85",
    "outputId": "ea6c90b7-0c8a-40b7-b402-87464d9293fb"
   },
   "outputs": [],
   "source": [
    "print(\"Features sorted by their score:\")\n",
    "print(sorted(zip(map(lambda x: round(x, 4), l[1][0].feature_importances_), predictors), reverse=True))"
   ]
  },
  {
   "cell_type": "code",
   "execution_count": null,
   "id": "0ac9fc28",
   "metadata": {
    "colab": {
     "base_uri": "https://localhost:8080/"
    },
    "id": "0ac9fc28",
    "outputId": "e1e15261-b257-4446-f713-3c89d385d65e"
   },
   "outputs": [],
   "source": [
    "from sklearn.inspection import permutation_importance\n",
    "import time\n",
    "\n",
    "start_time = time.time()\n",
    "result = permutation_importance(\n",
    "    l[1][0], X_test, y_test, n_repeats=5, random_state=42, n_jobs=2\n",
    ")\n",
    "elapsed_time = time.time() - start_time\n",
    "print(f\"Elapsed time to compute the importances: {elapsed_time:.3f} seconds\")\n",
    "\n",
    "forest_importances = pd.Series(result.importances_mean, index=predictors)"
   ]
  },
  {
   "cell_type": "code",
   "execution_count": null,
   "id": "b18b0748",
   "metadata": {
    "colab": {
     "base_uri": "https://localhost:8080/",
     "height": 297
    },
    "id": "b18b0748",
    "outputId": "afcf60da-d9f8-4ccc-8c82-ddd2c7b51348"
   },
   "outputs": [],
   "source": [
    "fig, ax = plt.subplots()\n",
    "forest_importances.plot.bar(yerr=result.importances_std, ax=ax)\n",
    "ax.set_title(\"Feature importances using permutation on full model\")\n",
    "ax.set_ylabel(\"Mean accuracy decrease\")\n",
    "fig.tight_layout()\n",
    "plt.show()"
   ]
  },
  {
   "cell_type": "code",
   "execution_count": null,
   "id": "4d834fc2",
   "metadata": {
    "colab": {
     "base_uri": "https://localhost:8080/"
    },
    "id": "4d834fc2",
    "outputId": "7e03e14f-f3f1-4522-8174-40eb7070f5b0"
   },
   "outputs": [],
   "source": [
    "print(y_test)"
   ]
  },
  {
   "cell_type": "code",
   "execution_count": null,
   "id": "e457d0b7",
   "metadata": {
    "id": "e457d0b7"
   },
   "outputs": [],
   "source": [
    "result = pd.DataFrame(y_test, columns=['actual'])\n",
    "predicted= pd.DataFrame(y_pred, columns=['predicted'])\n",
    "\n",
    "df = pd.DataFrame(X_test)\n",
    "\n"
   ]
  },
  {
   "cell_type": "code",
   "execution_count": null,
   "id": "bdbb5977",
   "metadata": {
    "id": "bdbb5977"
   },
   "outputs": [],
   "source": [
    "df['result'] = result\n",
    "df['perdicted'] = predicted"
   ]
  },
  {
   "cell_type": "code",
   "execution_count": null,
   "id": "1613fdb7",
   "metadata": {
    "id": "1613fdb7"
   },
   "outputs": [],
   "source": [
    "df.to_csv('results1.csv') "
   ]
  },
  {
   "cell_type": "code",
   "execution_count": null,
   "id": "cabb3f70",
   "metadata": {
    "colab": {
     "base_uri": "https://localhost:8080/",
     "height": 236
    },
    "id": "cabb3f70",
    "outputId": "bcbf3a44-9b94-4b5f-b3db-3b0cab22c8d5"
   },
   "outputs": [],
   "source": [
    "df.head()"
   ]
  },
  {
   "cell_type": "markdown",
   "id": "e46e4cf0",
   "metadata": {
    "id": "e46e4cf0"
   },
   "source": [
    " "
   ]
  }
 ],
 "metadata": {
  "colab": {
   "name": "eda7.ipynb",
   "provenance": []
  },
  "kernelspec": {
   "display_name": "Python 3",
   "language": "python",
   "name": "python3"
  },
  "language_info": {
   "codemirror_mode": {
    "name": "ipython",
    "version": 3
   },
   "file_extension": ".py",
   "mimetype": "text/x-python",
   "name": "python",
   "nbconvert_exporter": "python",
   "pygments_lexer": "ipython3",
   "version": "3.8.5"
  }
 },
 "nbformat": 4,
 "nbformat_minor": 5
}
